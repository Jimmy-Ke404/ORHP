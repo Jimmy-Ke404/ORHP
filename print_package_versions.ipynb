{
 "cells": [
  {
   "cell_type": "code",
   "execution_count": 20,
   "metadata": {},
   "outputs": [
    {
     "name": "stdout",
     "output_type": "stream",
     "text": [
      "Python Version: 3.8.8 (default, Apr 13 2021, 19:58:26) \n",
      "[GCC 7.3.0]\n",
      "numpy: 1.20.1\n",
      "matplotlib: 3.3.4\n",
      "sympy: 1.8\n",
      "networkx: 2.5\n",
      "geopandas: 0.10.2\n",
      "scipy: 1.6.2\n"
     ]
    }
   ],
   "source": [
    "import sys\n",
    "\n",
    "print(\"Python Version:\", sys.version)\n",
    "import pkg_resources\n",
    "\n",
    "# Define the packages you want to check\n",
    "packages_to_check = ['numpy', 'matplotlib', 'sympy',\n",
    "                     'networkx', 'geopandas', 'scipy']\n",
    "\n",
    "for package in packages_to_check:\n",
    "    try:\n",
    "        version = pkg_resources.get_distribution(package).version\n",
    "        print(f\"{package}: {version}\")\n",
    "    except pkg_resources.DistributionNotFound:\n",
    "        print(f\"{package}: Not installed\")\n",
    "        # import pickle\n",
    "        # print(pickle.__version__)"
   ]
  }
 ],
 "metadata": {
  "kernelspec": {
   "display_name": "base",
   "language": "python",
   "name": "python3"
  },
  "language_info": {
   "codemirror_mode": {
    "name": "ipython",
    "version": 3
   },
   "file_extension": ".py",
   "mimetype": "text/x-python",
   "name": "python",
   "nbconvert_exporter": "python",
   "pygments_lexer": "ipython3",
   "version": "3.8.8"
  },
  "orig_nbformat": 4
 },
 "nbformat": 4,
 "nbformat_minor": 2
}
